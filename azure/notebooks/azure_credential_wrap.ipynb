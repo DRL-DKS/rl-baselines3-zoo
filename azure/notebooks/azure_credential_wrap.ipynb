{
 "cells": [
  {
   "cell_type": "code",
   "execution_count": 1,
   "metadata": {},
   "outputs": [
    {
     "ename": "AttributeError",
     "evalue": "'CredentialWrapper' object has no attribute 'get_token'",
     "output_type": "error",
     "traceback": [
      "\u001b[0;31m---------------------------------------------------------------------------\u001b[0m",
      "\u001b[0;31mAttributeError\u001b[0m                            Traceback (most recent call last)",
      "\u001b[1;32m/home/daniel/dev/rl-baselines3-zoo/azure/notebooks/azure_credential_wrap.ipynb Cell 1\u001b[0m in \u001b[0;36m<cell line: 49>\u001b[0;34m()\u001b[0m\n\u001b[1;32m     <a href='vscode-notebook-cell:/home/daniel/dev/rl-baselines3-zoo/azure/notebooks/azure_credential_wrap.ipynb#ch0000000?line=53'>54</a>\u001b[0m \u001b[39mfrom\u001b[39;00m \u001b[39mazure\u001b[39;00m\u001b[39m.\u001b[39;00m\u001b[39mmgmt\u001b[39;00m\u001b[39m.\u001b[39;00m\u001b[39mresource\u001b[39;00m \u001b[39mimport\u001b[39;00m ResourceManagementClient\n\u001b[1;32m     <a href='vscode-notebook-cell:/home/daniel/dev/rl-baselines3-zoo/azure/notebooks/azure_credential_wrap.ipynb#ch0000000?line=54'>55</a>\u001b[0m client \u001b[39m=\u001b[39m ResourceManagementClient(credentials, subscription_id)\n\u001b[0;32m---> <a href='vscode-notebook-cell:/home/daniel/dev/rl-baselines3-zoo/azure/notebooks/azure_credential_wrap.ipynb#ch0000000?line=55'>56</a>\u001b[0m \u001b[39mfor\u001b[39;00m rg \u001b[39min\u001b[39;00m client\u001b[39m.\u001b[39mresource_groups\u001b[39m.\u001b[39mlist():\n\u001b[1;32m     <a href='vscode-notebook-cell:/home/daniel/dev/rl-baselines3-zoo/azure/notebooks/azure_credential_wrap.ipynb#ch0000000?line=56'>57</a>\u001b[0m     \u001b[39mprint\u001b[39m(rg\u001b[39m.\u001b[39mname)\n",
      "File \u001b[0;32m~/anaconda3/envs/rlbase/lib/python3.8/site-packages/azure/core/paging.py:128\u001b[0m, in \u001b[0;36mItemPaged.__next__\u001b[0;34m(self)\u001b[0m\n\u001b[1;32m    126\u001b[0m \u001b[39mif\u001b[39;00m \u001b[39mself\u001b[39m\u001b[39m.\u001b[39m_page_iterator \u001b[39mis\u001b[39;00m \u001b[39mNone\u001b[39;00m:\n\u001b[1;32m    127\u001b[0m     \u001b[39mself\u001b[39m\u001b[39m.\u001b[39m_page_iterator \u001b[39m=\u001b[39m itertools\u001b[39m.\u001b[39mchain\u001b[39m.\u001b[39mfrom_iterable(\u001b[39mself\u001b[39m\u001b[39m.\u001b[39mby_page())\n\u001b[0;32m--> 128\u001b[0m \u001b[39mreturn\u001b[39;00m \u001b[39mnext\u001b[39;49m(\u001b[39mself\u001b[39;49m\u001b[39m.\u001b[39;49m_page_iterator)\n",
      "File \u001b[0;32m~/anaconda3/envs/rlbase/lib/python3.8/site-packages/azure/core/paging.py:76\u001b[0m, in \u001b[0;36mPageIterator.__next__\u001b[0;34m(self)\u001b[0m\n\u001b[1;32m     74\u001b[0m     \u001b[39mraise\u001b[39;00m \u001b[39mStopIteration\u001b[39;00m(\u001b[39m\"\u001b[39m\u001b[39mEnd of paging\u001b[39m\u001b[39m\"\u001b[39m)\n\u001b[1;32m     75\u001b[0m \u001b[39mtry\u001b[39;00m:\n\u001b[0;32m---> 76\u001b[0m     \u001b[39mself\u001b[39m\u001b[39m.\u001b[39m_response \u001b[39m=\u001b[39m \u001b[39mself\u001b[39;49m\u001b[39m.\u001b[39;49m_get_next(\u001b[39mself\u001b[39;49m\u001b[39m.\u001b[39;49mcontinuation_token)\n\u001b[1;32m     77\u001b[0m \u001b[39mexcept\u001b[39;00m AzureError \u001b[39mas\u001b[39;00m error:\n\u001b[1;32m     78\u001b[0m     \u001b[39mif\u001b[39;00m \u001b[39mnot\u001b[39;00m error\u001b[39m.\u001b[39mcontinuation_token:\n",
      "File \u001b[0;32m~/anaconda3/envs/rlbase/lib/python3.8/site-packages/azure/mgmt/resource/resources/v2021_04_01/operations/_resource_groups_operations.py:599\u001b[0m, in \u001b[0;36mResourceGroupsOperations.list.<locals>.get_next\u001b[0;34m(next_link)\u001b[0m\n\u001b[1;32m    596\u001b[0m \u001b[39mdef\u001b[39;00m \u001b[39mget_next\u001b[39m(next_link\u001b[39m=\u001b[39m\u001b[39mNone\u001b[39;00m):\n\u001b[1;32m    597\u001b[0m     request \u001b[39m=\u001b[39m prepare_request(next_link)\n\u001b[0;32m--> 599\u001b[0m     pipeline_response \u001b[39m=\u001b[39m \u001b[39mself\u001b[39;49m\u001b[39m.\u001b[39;49m_client\u001b[39m.\u001b[39;49m_pipeline\u001b[39m.\u001b[39;49mrun(request, stream\u001b[39m=\u001b[39;49m\u001b[39mFalse\u001b[39;49;00m, \u001b[39m*\u001b[39;49m\u001b[39m*\u001b[39;49mkwargs)\n\u001b[1;32m    600\u001b[0m     response \u001b[39m=\u001b[39m pipeline_response\u001b[39m.\u001b[39mhttp_response\n\u001b[1;32m    602\u001b[0m     \u001b[39mif\u001b[39;00m response\u001b[39m.\u001b[39mstatus_code \u001b[39mnot\u001b[39;00m \u001b[39min\u001b[39;00m [\u001b[39m200\u001b[39m]:\n",
      "File \u001b[0;32m~/anaconda3/envs/rlbase/lib/python3.8/site-packages/azure/core/pipeline/_base.py:211\u001b[0m, in \u001b[0;36mPipeline.run\u001b[0;34m(self, request, **kwargs)\u001b[0m\n\u001b[1;32m    203\u001b[0m pipeline_request \u001b[39m=\u001b[39m PipelineRequest(\n\u001b[1;32m    204\u001b[0m     request, context\n\u001b[1;32m    205\u001b[0m )  \u001b[39m# type: PipelineRequest[HTTPRequestType]\u001b[39;00m\n\u001b[1;32m    206\u001b[0m first_node \u001b[39m=\u001b[39m (\n\u001b[1;32m    207\u001b[0m     \u001b[39mself\u001b[39m\u001b[39m.\u001b[39m_impl_policies[\u001b[39m0\u001b[39m]\n\u001b[1;32m    208\u001b[0m     \u001b[39mif\u001b[39;00m \u001b[39mself\u001b[39m\u001b[39m.\u001b[39m_impl_policies\n\u001b[1;32m    209\u001b[0m     \u001b[39melse\u001b[39;00m _TransportRunner(\u001b[39mself\u001b[39m\u001b[39m.\u001b[39m_transport)\n\u001b[1;32m    210\u001b[0m )\n\u001b[0;32m--> 211\u001b[0m \u001b[39mreturn\u001b[39;00m first_node\u001b[39m.\u001b[39;49msend(pipeline_request)\n",
      "File \u001b[0;32m~/anaconda3/envs/rlbase/lib/python3.8/site-packages/azure/core/pipeline/_base.py:71\u001b[0m, in \u001b[0;36m_SansIOHTTPPolicyRunner.send\u001b[0;34m(self, request)\u001b[0m\n\u001b[1;32m     69\u001b[0m _await_result(\u001b[39mself\u001b[39m\u001b[39m.\u001b[39m_policy\u001b[39m.\u001b[39mon_request, request)\n\u001b[1;32m     70\u001b[0m \u001b[39mtry\u001b[39;00m:\n\u001b[0;32m---> 71\u001b[0m     response \u001b[39m=\u001b[39m \u001b[39mself\u001b[39;49m\u001b[39m.\u001b[39;49mnext\u001b[39m.\u001b[39;49msend(request)\n\u001b[1;32m     72\u001b[0m \u001b[39mexcept\u001b[39;00m \u001b[39mException\u001b[39;00m:  \u001b[39m# pylint: disable=broad-except\u001b[39;00m\n\u001b[1;32m     73\u001b[0m     _await_result(\u001b[39mself\u001b[39m\u001b[39m.\u001b[39m_policy\u001b[39m.\u001b[39mon_exception, request)\n",
      "File \u001b[0;32m~/anaconda3/envs/rlbase/lib/python3.8/site-packages/azure/core/pipeline/_base.py:71\u001b[0m, in \u001b[0;36m_SansIOHTTPPolicyRunner.send\u001b[0;34m(self, request)\u001b[0m\n\u001b[1;32m     69\u001b[0m _await_result(\u001b[39mself\u001b[39m\u001b[39m.\u001b[39m_policy\u001b[39m.\u001b[39mon_request, request)\n\u001b[1;32m     70\u001b[0m \u001b[39mtry\u001b[39;00m:\n\u001b[0;32m---> 71\u001b[0m     response \u001b[39m=\u001b[39m \u001b[39mself\u001b[39;49m\u001b[39m.\u001b[39;49mnext\u001b[39m.\u001b[39;49msend(request)\n\u001b[1;32m     72\u001b[0m \u001b[39mexcept\u001b[39;00m \u001b[39mException\u001b[39;00m:  \u001b[39m# pylint: disable=broad-except\u001b[39;00m\n\u001b[1;32m     73\u001b[0m     _await_result(\u001b[39mself\u001b[39m\u001b[39m.\u001b[39m_policy\u001b[39m.\u001b[39mon_exception, request)\n",
      "    \u001b[0;31m[... skipping similar frames: _SansIOHTTPPolicyRunner.send at line 71 (2 times)]\u001b[0m\n",
      "File \u001b[0;32m~/anaconda3/envs/rlbase/lib/python3.8/site-packages/azure/core/pipeline/_base.py:71\u001b[0m, in \u001b[0;36m_SansIOHTTPPolicyRunner.send\u001b[0;34m(self, request)\u001b[0m\n\u001b[1;32m     69\u001b[0m _await_result(\u001b[39mself\u001b[39m\u001b[39m.\u001b[39m_policy\u001b[39m.\u001b[39mon_request, request)\n\u001b[1;32m     70\u001b[0m \u001b[39mtry\u001b[39;00m:\n\u001b[0;32m---> 71\u001b[0m     response \u001b[39m=\u001b[39m \u001b[39mself\u001b[39;49m\u001b[39m.\u001b[39;49mnext\u001b[39m.\u001b[39;49msend(request)\n\u001b[1;32m     72\u001b[0m \u001b[39mexcept\u001b[39;00m \u001b[39mException\u001b[39;00m:  \u001b[39m# pylint: disable=broad-except\u001b[39;00m\n\u001b[1;32m     73\u001b[0m     _await_result(\u001b[39mself\u001b[39m\u001b[39m.\u001b[39m_policy\u001b[39m.\u001b[39mon_exception, request)\n",
      "File \u001b[0;32m~/anaconda3/envs/rlbase/lib/python3.8/site-packages/azure/mgmt/core/policies/_base.py:47\u001b[0m, in \u001b[0;36mARMAutoResourceProviderRegistrationPolicy.send\u001b[0;34m(self, request)\u001b[0m\n\u001b[1;32m     44\u001b[0m \u001b[39mdef\u001b[39;00m \u001b[39msend\u001b[39m(\u001b[39mself\u001b[39m, request):\n\u001b[1;32m     45\u001b[0m     \u001b[39m# type: (PipelineRequest[HTTPRequestType], Any) -> PipelineResponse[HTTPRequestType, HTTPResponseType]\u001b[39;00m\n\u001b[1;32m     46\u001b[0m     http_request \u001b[39m=\u001b[39m request\u001b[39m.\u001b[39mhttp_request\n\u001b[0;32m---> 47\u001b[0m     response \u001b[39m=\u001b[39m \u001b[39mself\u001b[39;49m\u001b[39m.\u001b[39;49mnext\u001b[39m.\u001b[39;49msend(request)\n\u001b[1;32m     48\u001b[0m     \u001b[39mif\u001b[39;00m response\u001b[39m.\u001b[39mhttp_response\u001b[39m.\u001b[39mstatus_code \u001b[39m==\u001b[39m \u001b[39m409\u001b[39m:\n\u001b[1;32m     49\u001b[0m         rp_name \u001b[39m=\u001b[39m \u001b[39mself\u001b[39m\u001b[39m.\u001b[39m_check_rp_not_registered_err(response)\n",
      "File \u001b[0;32m~/anaconda3/envs/rlbase/lib/python3.8/site-packages/azure/core/pipeline/policies/_redirect.py:158\u001b[0m, in \u001b[0;36mRedirectPolicy.send\u001b[0;34m(self, request)\u001b[0m\n\u001b[1;32m    156\u001b[0m redirect_settings \u001b[39m=\u001b[39m \u001b[39mself\u001b[39m\u001b[39m.\u001b[39mconfigure_redirects(request\u001b[39m.\u001b[39mcontext\u001b[39m.\u001b[39moptions)\n\u001b[1;32m    157\u001b[0m \u001b[39mwhile\u001b[39;00m retryable:\n\u001b[0;32m--> 158\u001b[0m     response \u001b[39m=\u001b[39m \u001b[39mself\u001b[39;49m\u001b[39m.\u001b[39;49mnext\u001b[39m.\u001b[39;49msend(request)\n\u001b[1;32m    159\u001b[0m     redirect_location \u001b[39m=\u001b[39m \u001b[39mself\u001b[39m\u001b[39m.\u001b[39mget_redirect_location(response)\n\u001b[1;32m    160\u001b[0m     \u001b[39mif\u001b[39;00m redirect_location \u001b[39mand\u001b[39;00m redirect_settings[\u001b[39m'\u001b[39m\u001b[39mallow\u001b[39m\u001b[39m'\u001b[39m]:\n",
      "File \u001b[0;32m~/anaconda3/envs/rlbase/lib/python3.8/site-packages/azure/core/pipeline/policies/_retry.py:446\u001b[0m, in \u001b[0;36mRetryPolicy.send\u001b[0;34m(self, request)\u001b[0m\n\u001b[1;32m    444\u001b[0m start_time \u001b[39m=\u001b[39m time\u001b[39m.\u001b[39mtime()\n\u001b[1;32m    445\u001b[0m \u001b[39mself\u001b[39m\u001b[39m.\u001b[39m_configure_timeout(request, absolute_timeout, is_response_error)\n\u001b[0;32m--> 446\u001b[0m response \u001b[39m=\u001b[39m \u001b[39mself\u001b[39;49m\u001b[39m.\u001b[39;49mnext\u001b[39m.\u001b[39;49msend(request)\n\u001b[1;32m    447\u001b[0m \u001b[39mif\u001b[39;00m \u001b[39mself\u001b[39m\u001b[39m.\u001b[39mis_retry(retry_settings, response):\n\u001b[1;32m    448\u001b[0m     retry_active \u001b[39m=\u001b[39m \u001b[39mself\u001b[39m\u001b[39m.\u001b[39mincrement(retry_settings, response\u001b[39m=\u001b[39mresponse)\n",
      "File \u001b[0;32m~/anaconda3/envs/rlbase/lib/python3.8/site-packages/azure/core/pipeline/policies/_authentication.py:117\u001b[0m, in \u001b[0;36mBearerTokenCredentialPolicy.send\u001b[0;34m(self, request)\u001b[0m\n\u001b[1;32m    110\u001b[0m \u001b[39mdef\u001b[39;00m \u001b[39msend\u001b[39m(\u001b[39mself\u001b[39m, request):\n\u001b[1;32m    111\u001b[0m     \u001b[39m# type: (PipelineRequest) -> PipelineResponse\u001b[39;00m\n\u001b[1;32m    112\u001b[0m     \u001b[39m\"\"\"Authorize request with a bearer token and send it to the next policy\u001b[39;00m\n\u001b[1;32m    113\u001b[0m \n\u001b[1;32m    114\u001b[0m \u001b[39m    :param request: The pipeline request object\u001b[39;00m\n\u001b[1;32m    115\u001b[0m \u001b[39m    :type request: ~azure.core.pipeline.PipelineRequest\u001b[39;00m\n\u001b[1;32m    116\u001b[0m \u001b[39m    \"\"\"\u001b[39;00m\n\u001b[0;32m--> 117\u001b[0m     \u001b[39mself\u001b[39;49m\u001b[39m.\u001b[39;49mon_request(request)\n\u001b[1;32m    118\u001b[0m     \u001b[39mtry\u001b[39;00m:\n\u001b[1;32m    119\u001b[0m         response \u001b[39m=\u001b[39m \u001b[39mself\u001b[39m\u001b[39m.\u001b[39mnext\u001b[39m.\u001b[39msend(request)\n",
      "File \u001b[0;32m~/anaconda3/envs/rlbase/lib/python3.8/site-packages/azure/core/pipeline/policies/_authentication.py:94\u001b[0m, in \u001b[0;36mBearerTokenCredentialPolicy.on_request\u001b[0;34m(self, request)\u001b[0m\n\u001b[1;32m     91\u001b[0m \u001b[39mself\u001b[39m\u001b[39m.\u001b[39m_enforce_https(request)\n\u001b[1;32m     93\u001b[0m \u001b[39mif\u001b[39;00m \u001b[39mself\u001b[39m\u001b[39m.\u001b[39m_token \u001b[39mis\u001b[39;00m \u001b[39mNone\u001b[39;00m \u001b[39mor\u001b[39;00m \u001b[39mself\u001b[39m\u001b[39m.\u001b[39m_need_new_token:\n\u001b[0;32m---> 94\u001b[0m     \u001b[39mself\u001b[39m\u001b[39m.\u001b[39m_token \u001b[39m=\u001b[39m \u001b[39mself\u001b[39;49m\u001b[39m.\u001b[39;49m_credential\u001b[39m.\u001b[39;49mget_token(\u001b[39m*\u001b[39m\u001b[39mself\u001b[39m\u001b[39m.\u001b[39m_scopes)\n\u001b[1;32m     95\u001b[0m \u001b[39mself\u001b[39m\u001b[39m.\u001b[39m_update_headers(request\u001b[39m.\u001b[39mhttp_request\u001b[39m.\u001b[39mheaders, \u001b[39mself\u001b[39m\u001b[39m.\u001b[39m_token\u001b[39m.\u001b[39mtoken)\n",
      "\u001b[0;31mAttributeError\u001b[0m: 'CredentialWrapper' object has no attribute 'get_token'"
     ]
    }
   ],
   "source": [
    "# Wrap credentials from azure-identity to be compatible with SDK that needs msrestazure or azure.common.credentials\n",
    "# Need msrest >= 0.6.0\n",
    "# See also https://pypi.org/project/azure-identity/\n",
    "\n",
    "from msrest.authentication import BasicTokenAuthentication\n",
    "from azure.core.pipeline.policies import BearerTokenCredentialPolicy\n",
    "from azure.core.pipeline import PipelineRequest, PipelineContext\n",
    "from azure.core.pipeline.transport import HttpRequest\n",
    "\n",
    "from azure.identity import DefaultAzureCredential\n",
    "\n",
    "class CredentialWrapper(BasicTokenAuthentication):\n",
    "    def __init__(self, credential=None, resource_id=\"https://management.azure.com/.default\", **kwargs):\n",
    "        \"\"\"Wrap any azure-identity credential to work with SDK that needs azure.common.credentials/msrestazure.\n",
    "        Default resource is ARM (syntax of endpoint v2)\n",
    "        :param credential: Any azure-identity credential (DefaultAzureCredential by default)\n",
    "        :param str resource_id: The scope to use to get the token (default ARM)\n",
    "        \"\"\"\n",
    "        super(CredentialWrapper, self).__init__(None)\n",
    "        if credential is None:\n",
    "            credential = DefaultAzureCredential()\n",
    "        self._policy = BearerTokenCredentialPolicy(credential, resource_id, **kwargs)\n",
    "\n",
    "    def _make_request(self):\n",
    "        return PipelineRequest(\n",
    "            HttpRequest(\n",
    "                \"CredentialWrapper\",\n",
    "                \"https://fakeurl\"\n",
    "            ),\n",
    "            PipelineContext(None)\n",
    "        )\n",
    "\n",
    "    def set_token(self):\n",
    "        \"\"\"Ask the azure-core BearerTokenCredentialPolicy policy to get a token.\n",
    "        Using the policy gives us for free the caching system of azure-core.\n",
    "        We could make this code simpler by using private method, but by definition\n",
    "        I can't assure they will be there forever, so mocking a fake call to the policy\n",
    "        to extract the token, using 100% public API.\"\"\"\n",
    "        request = self._make_request()\n",
    "        self._policy.on_request(request)\n",
    "        # Read Authorization, and get the second part after Bearer\n",
    "        token = request.http_request.headers[\"Authorization\"].split(\" \", 1)[1]\n",
    "        self.token = {\"access_token\": token}\n",
    "\n",
    "    def signed_session(self, session=None):\n",
    "        self.set_token()\n",
    "        return super(CredentialWrapper, self).signed_session(session)\n",
    "\n",
    "if __name__ == \"__main__\":\n",
    "    import os\n",
    "    credentials = CredentialWrapper()\n",
    "    subscription_id = os.environ.get(\"AZURE_SUBSCRIPTION_ID\", \"<subscription_id>\")\n",
    "\n",
    "    from azure.mgmt.resource import ResourceManagementClient\n",
    "    client = ResourceManagementClient(credentials, subscription_id)\n",
    "    for rg in client.resource_groups.list():\n",
    "        print(rg.name)"
   ]
  }
 ],
 "metadata": {
  "kernelspec": {
   "display_name": "Python 3.8.13 ('rlbase')",
   "language": "python",
   "name": "python3"
  },
  "language_info": {
   "codemirror_mode": {
    "name": "ipython",
    "version": 3
   },
   "file_extension": ".py",
   "mimetype": "text/x-python",
   "name": "python",
   "nbconvert_exporter": "python",
   "pygments_lexer": "ipython3",
   "version": "3.8.13"
  },
  "orig_nbformat": 4,
  "vscode": {
   "interpreter": {
    "hash": "004295f7af4bd1161c2fb8aeaf55b1d4203ec45bdf2967d05026656064e7f169"
   }
  }
 },
 "nbformat": 4,
 "nbformat_minor": 2
}
