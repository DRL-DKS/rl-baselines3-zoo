{
 "cells": [
  {
   "cell_type": "markdown",
   "metadata": {},
   "source": [
    "# To Start Credentials"
   ]
  },
  {
   "cell_type": "code",
   "execution_count": 1,
   "metadata": {},
   "outputs": [],
   "source": [
    "# THIS CELL READS RESOURCE GROUPS\n",
    "# https://docs.microsoft.com/en-us/azure/developer/python/sdk/examples/azure-sdk-example-resource-group\n",
    "# https://docs.microsoft.com/en-us/azure/developer/python/sdk/examples/azure-sdk-example-list-resource-groups\n",
    "# Import the needed credential and management objects from the libraries.\n",
    "from azure.identity import AzureCliCredential, ClientSecretCredential, DefaultAzureCredential\n",
    "from azure.mgmt.resource import ResourceManagementClient\n",
    "import os\n",
    "\n",
    "# Acquire a credential object using CLI-based authentication.\n",
    "credential = AzureCliCredential()\n",
    "\n",
    "# Acquire a credential object using ClientSecretCredential\n",
    "AZURE_TENANT_ID=os.environ[\"AZURE_TENANT_ID\"]\n",
    "AZURE_CLIENT_ID=os.environ[\"AZURE_CLIENT_ID\"]\n",
    "AZURE_CLIENT_SECRET=os.environ[\"AZURE_CLIENT_SECRET\"]\n",
    "# AZURE_SUBSCRIPTION_ID=os.environ(\"AZURE_SUBSCRIPTION_ID\")\n"
   ]
  },
  {
   "cell_type": "markdown",
   "metadata": {},
   "source": [
    "# Get resource group list"
   ]
  },
  {
   "cell_type": "code",
   "execution_count": 4,
   "metadata": {},
   "outputs": [
    {
     "name": "stdout",
     "output_type": "stream",
     "text": [
      "Resource Group                          Location\n",
      "--------------------------------------------------------------------------------\n",
      "PythonAzureExample-rg                   westeurope\n"
     ]
    }
   ],
   "source": [
    "# credential = ClientSecretCredential(tenant_id=AZURE_TENANT_ID, client_id=AZURE_CLIENT_ID, client_secret=AZURE_CLIENT_SECRET)\n",
    "# credential =  DefaultAzureCredential()\n",
    "\n",
    "# Retrieve subscription ID from environment variable.\n",
    "subscription_id = os.environ[\"AZURE_SUBSCRIPTION_ID\"]\n",
    "\n",
    "# Obtain the management object for resources.\n",
    "resource_client = ResourceManagementClient(credential, subscription_id)\n",
    "\n",
    "# Retrieve the list of resource groups\n",
    "group_list = resource_client.resource_groups.list()\n",
    "\n",
    "# Show the groups in formatted output\n",
    "column_width = 40\n",
    "\n",
    "print(\"Resource Group\".ljust(column_width) + \"Location\")\n",
    "print(\"-\" * (column_width * 2))\n",
    "\n",
    "for group in list(group_list):\n",
    "    print(f\"{group.name:<{column_width}}{group.location}\")"
   ]
  },
  {
   "cell_type": "markdown",
   "metadata": {},
   "source": [
    "## TO MAKE A RESOURCE GROUP"
   ]
  },
  {
   "cell_type": "code",
   "execution_count": 5,
   "metadata": {},
   "outputs": [
    {
     "name": "stdout",
     "output_type": "stream",
     "text": [
      "Provisioned resource group PythonAzureExample-rg in the westeurope region\n",
      "Updated resource group PythonAzureExample-rg with tags\n"
     ]
    }
   ],
   "source": [
    "# Import the needed credential and management objects from the libraries.\n",
    "from azure.mgmt.resource import ResourceManagementClient\n",
    "from azure.identity import AzureCliCredential\n",
    "import os\n",
    "\n",
    "# Acquire a credential object using CLI-based authentication.\n",
    "credential = AzureCliCredential()\n",
    "\n",
    "# Retrieve subscription ID from environment variable.\n",
    "subscription_id = os.environ[\"AZURE_SUBSCRIPTION_ID\"]\n",
    "\n",
    "# Obtain the management object for resources.\n",
    "resource_client = ResourceManagementClient(credential, subscription_id)\n",
    "\n",
    "\n",
    "# https://docs.microsoft.com/en-us/dotnet/api/microsoft.azure.documents.locationnames.centralus?view=azure-dotnet\n",
    "# CHECK HERE THE LOCATIONS\n",
    "# Provision the resource group.\n",
    "rg_result = resource_client.resource_groups.create_or_update(\n",
    "    \"PythonAzureExample-rg\",\n",
    "    {\n",
    "        \"location\": \"westeurope\"\n",
    "    }\n",
    ")\n",
    "\n",
    "# Within the ResourceManagementClient is an object named resource_groups,\n",
    "# which is of class ResourceGroupsOperations, which contains methods like\n",
    "# create_or_update.\n",
    "#\n",
    "# The second parameter to create_or_update here is technically a ResourceGroup\n",
    "# object. You can create the object directly using ResourceGroup(location=LOCATION)\n",
    "# or you can express the object as inline JSON as shown here. For details,\n",
    "# see Inline JSON pattern for object arguments at\n",
    "# https://docs.microsoft.com/azure/developer/python/azure-sdk-overview#inline-json-pattern-for-object-arguments.\n",
    "\n",
    "print(f\"Provisioned resource group {rg_result.name} in the {rg_result.location} region\")\n",
    "\n",
    "# The return value is another ResourceGroup object with all the details of the\n",
    "# new group. In this case the call is synchronous: the resource group has been\n",
    "# provisioned by the time the call returns.\n",
    "\n",
    "# To update the resource group, repeat the call with different properties, such\n",
    "# as tags:\n",
    "group_config =    {\n",
    "        \"location\": \"westeurope\",\n",
    "        \"tags\": { \"environment\":\"test\", \"department\":\"tech\" }\n",
    "    }\n",
    "rg_result = resource_client.resource_groups.create_or_update(\n",
    "    \"PythonAzureExample-rg\",group_config\n",
    ")\n",
    "\n",
    "print(f\"Updated resource group {rg_result.name} with tags\")\n",
    "\n",
    "# Optional lines to delete the resource group. begin_delete is asynchronous.\n",
    "# poller = resource_client.resource_groups.begin_delete(rg_result.name)\n",
    "# result = poller.result()"
   ]
  },
  {
   "cell_type": "markdown",
   "metadata": {},
   "source": [
    "# Delete a resource group"
   ]
  },
  {
   "cell_type": "code",
   "execution_count": 13,
   "metadata": {},
   "outputs": [],
   "source": [
    "delete_async_operation = resource_client.resource_groups.begin_delete('PythonAzureExample-rg')\n",
    "delete_async_operation.wait()"
   ]
  },
  {
   "cell_type": "markdown",
   "metadata": {},
   "source": [
    "CONTAINER INSTANCE MANAGEMENT CLIENT (HOPE THIS WORKS)"
   ]
  },
  {
   "cell_type": "markdown",
   "metadata": {},
   "source": [
    "# Get a Resource Group"
   ]
  },
  {
   "cell_type": "code",
   "execution_count": 7,
   "metadata": {},
   "outputs": [
    {
     "name": "stdout",
     "output_type": "stream",
     "text": [
      "PythonAzureExample-rg\n",
      "westeurope\n"
     ]
    }
   ],
   "source": [
    "import resource\n",
    "from azure.mgmt.containerinstance import ContainerInstanceManagementClient\n",
    "from azure.mgmt.containerinstance.models import (ContainerGroup,\n",
    "                                                 Container,\n",
    "                                                 ContainerGroupNetworkProtocol,\n",
    "                                                 ContainerGroupRestartPolicy,\n",
    "                                                 ContainerPort,\n",
    "                                                 EnvironmentVariable,\n",
    "                                                 IpAddress,\n",
    "                                                 Port,\n",
    "                                                 ResourceRequests,\n",
    "                                                 ResourceRequirements,\n",
    "                                                 OperatingSystemTypes)\n",
    "\n",
    "\n",
    "container_group_name = 'PythonAzureExample-rg'\n",
    "resource_group = resource_client.resource_groups.get(container_group_name)\n",
    "print(resource_group.name)\n",
    "print(resource_group.location)\n"
   ]
  },
  {
   "cell_type": "markdown",
   "metadata": {},
   "source": [
    "# Create single Instance"
   ]
  },
  {
   "cell_type": "code",
   "execution_count": 8,
   "metadata": {},
   "outputs": [
    {
     "data": {
      "text/plain": [
       "<azure.core.polling._poller.LROPoller at 0x7fd9f8c2b3a0>"
      ]
     },
     "execution_count": 8,
     "metadata": {},
     "output_type": "execute_result"
    }
   ],
   "source": [
    "\n",
    "# container_image_name = \"mcr.microsoft.com/azuredocs/aci-helloworld\"\n",
    "container_image_name = \"stablebaselines/rl-baselines3-zoo-cpu\"\n",
    "\n",
    "start_command_line = \"python train.py --algo ppo --env CartPole-v1\"\n",
    "\n",
    "\n",
    "# Obtain the container object for instances.\n",
    "instance_client = ContainerInstanceManagementClient(credential, subscription_id)\n",
    "# Configure the container\n",
    "container_resource_requests = ResourceRequests(memory_in_gb=1, cpu=1.0)\n",
    "container_resource_requirements = ResourceRequirements(\n",
    "    requests=container_resource_requests)\n",
    "container_name = \"container-1\"\n",
    "container = Container(name=container_name,\n",
    "                        image=container_image_name,\n",
    "                        resources=container_resource_requirements,\n",
    "                        command=start_command_line.split(),\n",
    "                        ports=[ContainerPort(port=80)])\n",
    "# Configure the container group\n",
    "ports = [Port(protocol=ContainerGroupNetworkProtocol.tcp, port=80)]\n",
    "group_ip_address = IpAddress(ports=ports,\n",
    "                                dns_name_label=container_group_name,\n",
    "                                type=\"Public\")\n",
    "group = ContainerGroup(location=resource_group.location,\n",
    "                        containers=[container],\n",
    "                        os_type=OperatingSystemTypes.linux,\n",
    "                        ip_address=group_ip_address)\n",
    "\n",
    "# # Create the container group\n",
    "instance_client.container_groups.begin_create_or_update(resource_group.name,\n",
    "                                                container_name,\n",
    "                                                group)\n"
   ]
  },
  {
   "cell_type": "markdown",
   "metadata": {},
   "source": [
    "# Get Container group of a single instance"
   ]
  },
  {
   "cell_type": "code",
   "execution_count": 8,
   "metadata": {},
   "outputs": [],
   "source": [
    "\n",
    "# Get the created container group\n",
    "container_group = instance_client.container_groups.get(resource_group.name,\n",
    "                                                    container_name)\n",
    "\n",
    "# print(\"Once DNS has propagated, container group '{0}' will be reachable at\"\n",
    "#         \" http://{1}\".format(container_group_name,\n",
    "#                             container_group.ip_address.fqdn))\n"
   ]
  },
  {
   "cell_type": "markdown",
   "metadata": {},
   "source": [
    "# Delete Single Container"
   ]
  },
  {
   "cell_type": "code",
   "execution_count": 9,
   "metadata": {},
   "outputs": [
    {
     "data": {
      "text/plain": [
       "<azure.core.polling._poller.LROPoller at 0x7fd9f8c1a910>"
      ]
     },
     "execution_count": 9,
     "metadata": {},
     "output_type": "execute_result"
    }
   ],
   "source": [
    "instance_client.container_groups.begin_delete(resource_group.name,\n",
    "                                                container_name)"
   ]
  },
  {
   "cell_type": "markdown",
   "metadata": {},
   "source": [
    "# Create multiple container instances on a resource group"
   ]
  },
  {
   "cell_type": "code",
   "execution_count": 16,
   "metadata": {},
   "outputs": [
    {
     "data": {
      "text/plain": [
       "<azure.core.polling._poller.LROPoller at 0x7f533428e670>"
      ]
     },
     "execution_count": 16,
     "metadata": {},
     "output_type": "execute_result"
    }
   ],
   "source": [
    "\n",
    "container_image_name = \"mcr.microsoft.com/azuredocs/aci-helloworld\"\n",
    "# Obtain the container object for instances.\n",
    "instance_client = ContainerInstanceManagementClient(credential, subscription_id)\n",
    "# Configure the container\n",
    "container_resource_requests = ResourceRequests(memory_in_gb=1, cpu=1.0)\n",
    "container_resource_requirements = ResourceRequirements(\n",
    "    requests=container_resource_requests)\n",
    "container_group_name = \"containergg\"\n",
    "container_1 = Container(name=container_group_name+'-1',\n",
    "                        image=container_image_name,\n",
    "                        resources=container_resource_requirements,\n",
    "                        ports=[ContainerPort(port=80)])\n",
    "container_2 = Container(name=container_group_name+'-2',\n",
    "                        image=container_image_name,\n",
    "                        resources=container_resource_requirements)\n",
    "# Configure the container group\n",
    "ports = [Port(protocol=ContainerGroupNetworkProtocol.tcp, port=80)]\n",
    "group_ip_address = IpAddress(ports=ports,\n",
    "                                dns_name_label=container_group_name,\n",
    "                                type=\"Public\")\n",
    "group = ContainerGroup(location=resource_group.location,\n",
    "                        containers=[container_1, container_2],\n",
    "                        os_type=OperatingSystemTypes.linux,\n",
    "                        ip_address=group_ip_address)\n",
    "\n",
    "# # Create the container group\n",
    "instance_client.container_groups.begin_create_or_update(resource_group.name,\n",
    "                                                container_group_name,\n",
    "                                                group)\n"
   ]
  },
  {
   "cell_type": "markdown",
   "metadata": {},
   "source": [
    "# Delete Container Group"
   ]
  },
  {
   "cell_type": "code",
   "execution_count": 18,
   "metadata": {},
   "outputs": [
    {
     "data": {
      "text/plain": [
       "<azure.core.polling._poller.LROPoller at 0x7f533441a9d0>"
      ]
     },
     "execution_count": 18,
     "metadata": {},
     "output_type": "execute_result"
    }
   ],
   "source": [
    "instance_client.container_groups.begin_delete(resource_group.name,\n",
    "                                                container_group_name)"
   ]
  },
  {
   "cell_type": "markdown",
   "metadata": {},
   "source": [
    "# Create a task based container"
   ]
  },
  {
   "cell_type": "code",
   "execution_count": null,
   "metadata": {},
   "outputs": [],
   "source": []
  }
 ],
 "metadata": {
  "kernelspec": {
   "display_name": "Python 3.8.13 ('rlbase')",
   "language": "python",
   "name": "python3"
  },
  "language_info": {
   "codemirror_mode": {
    "name": "ipython",
    "version": 3
   },
   "file_extension": ".py",
   "mimetype": "text/x-python",
   "name": "python",
   "nbconvert_exporter": "python",
   "pygments_lexer": "ipython3",
   "version": "3.8.13"
  },
  "orig_nbformat": 4,
  "vscode": {
   "interpreter": {
    "hash": "004295f7af4bd1161c2fb8aeaf55b1d4203ec45bdf2967d05026656064e7f169"
   }
  }
 },
 "nbformat": 4,
 "nbformat_minor": 2
}
